{
 "cells": [
  {
   "cell_type": "code",
   "execution_count": 1,
   "id": "5771a803",
   "metadata": {},
   "outputs": [],
   "source": [
    "import csv\n",
    "import tweepy\n",
    "import ssl\n",
    "ssl._create_default_https_context = ssl._create_unverified_context\n",
    "# Oauth keys\n",
    "consumer_key = \"FzQhcfBvKlRwlzLPusKrrSY6P\"\n",
    "consumer_secret = \"ITDtL5vsBgyC3N6YrT7sjh8t2WNFNwFeNojLlqmQPH1iIlEaaa\"\n",
    "access_token = \"1431117962350448643-59wKX0XbMqwFaI9KDetGi0RlFQKU2G\"\n",
    "access_token_secret = \"XIm6pu4mgVX6ocrEVv7WIC9cBKLRnpMFJy9vjn3wRKjFG\"\n",
    "# Authentication with Twitter\n",
    "auth = tweepy.OAuthHandler(consumer_key, consumer_secret)\n",
    "auth.set_access_token(access_token, access_token_secret)\n",
    "api = tweepy.API(auth)\n",
    "# update these for the tweet you want to process replies to 'name' = the account username and you can find the tweet id within the tweet URL\n",
    "name = 'elonmusk'\n",
    "tweet_id = '1489301309559693314'\n",
    "replies=[]\n",
    "for tweet in tweepy.Cursor(api.search_tweets,q='to:'+name, result_type='recent').items(100):\n",
    "    if hasattr(tweet, 'in_reply_to_status_id_str'):\n",
    "        if (tweet.in_reply_to_status_id_str==tweet_id):\n",
    "            print(tweet)"
   ]
  },
  {
   "cell_type": "code",
   "execution_count": 10,
   "id": "72afa429",
   "metadata": {},
   "outputs": [],
   "source": [
    "# import the module\n",
    "import tweepy\n",
    "  \n",
    "# assign the values accordingly\n",
    "consumer_key = \"FzQhcfBvKlRwlzLPusKrrSY6P\"\n",
    "consumer_secret = \"ITDtL5vsBgyC3N6YrT7sjh8t2WNFNwFeNojLlqmQPH1iIlEaaa\"\n",
    "access_token = \"1431117962350448643-59wKX0XbMqwFaI9KDetGi0RlFQKU2G\"\n",
    "access_token_secret = \"XIm6pu4mgVX6ocrEVv7WIC9cBKLRnpMFJy9vjn3wRKjFG\"\n",
    "  \n",
    "# authorization of consumer key and consumer secret\n",
    "auth = tweepy.OAuthHandler(consumer_key, consumer_secret)\n",
    "  \n",
    "# set access to user's access key and access secret \n",
    "auth.set_access_token(access_token, access_token_secret)\n",
    "  \n",
    "# calling the api \n",
    "api = tweepy.API(auth)\n",
    "  \n",
    "# fetching the statuses\n",
    "statuses = api.user_timeline(screen_name = \"elonmusk\",count=1)\n",
    "  \n",
    "for status in statuses:\n",
    "    print(status.id)"
   ]
  },
  {
   "cell_type": "code",
   "execution_count": 7,
   "id": "cf7dacf8",
   "metadata": {},
   "outputs": [
    {
     "name": "stdout",
     "output_type": "stream",
     "text": [
      "[]\n"
     ]
    }
   ],
   "source": [
    "print(replies)"
   ]
  },
  {
   "cell_type": "code",
   "execution_count": null,
   "id": "3963b5f8",
   "metadata": {},
   "outputs": [],
   "source": []
  }
 ],
 "metadata": {
  "kernelspec": {
   "display_name": "Python 3 (ipykernel)",
   "language": "python",
   "name": "python3"
  },
  "language_info": {
   "codemirror_mode": {
    "name": "ipython",
    "version": 3
   },
   "file_extension": ".py",
   "mimetype": "text/x-python",
   "name": "python",
   "nbconvert_exporter": "python",
   "pygments_lexer": "ipython3",
   "version": "3.10.1"
  }
 },
 "nbformat": 4,
 "nbformat_minor": 5
}

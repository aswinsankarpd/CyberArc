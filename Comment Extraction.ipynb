{
 "cells": [
  {
   "cell_type": "code",
   "execution_count": 20,
   "id": "5771a803",
   "metadata": {},
   "outputs": [
    {
     "name": "stdout",
     "output_type": "stream",
     "text": [
      "@elonmusk @arctechinc Probably better to turn the internet off for a bit eh.\n",
      "@elonmusk @arctechinc #DogeKing #BTC  #BSC #BNB  #dogecoin #shiba #ElonMusk #Moonshot #Binance  #Chinesenewyear… https://t.co/uwxHkYxFWp\n",
      "@elonmusk @SawyerMerritt @arctechinc When we have only one country  on earth ??\n",
      "@elonmusk @SawyerMerritt @arctechinc Pls give Brazil some love. We’re literally in the middle of a jungle. 🤣\n",
      "@elonmusk @itsALLrisky @arctechinc Link in bio , signals education and miner all in one https://t.co/RJNj991p0W\n",
      "@elonmusk @arctechinc When will South Africa get Starlink?\n",
      "@elonmusk @arctechinc Wade Anderson made this trip 2, yes two years ago.\n",
      "@elonmusk @arctechinc Can we get business accounts with @SpaceX to improve management of multiple sites/contracts?\n",
      "@elonmusk @arctechinc Chamo muy bonito tus cohetes pero yo necesito q hagas un tweet de alguna meme coin q me haga… https://t.co/rVzcO4UF8W\n",
      "@elonmusk @arctechinc Don’t believe him. He’s promised FSD for years\n",
      "@elonmusk @arctechinc Please I want 100000$\n",
      "@elonmusk @arctechinc I hope so 🥰😍\n",
      "@elonmusk @arctechinc Scuba ready\n",
      "@elonmusk @arctechinc Any new meme that caught your attention? (Waiting.jpeg)\n",
      "@elonmusk @arctechinc You come in India in this year or next year?\n",
      "@elonmusk @arctechinc Making an electric car is easy, but... If anyone wants to commercialize e-VTOL it will be thi… https://t.co/6WSd9M2Ssv\n",
      "@elonmusk @itsALLrisky @arctechinc will humans make it to this summer?\n",
      "\"don't look up\" says we're done by 4th of July\n",
      "@elonmusk @arctechinc Starlink already works in Missouri, USA. I saw @EquipmentShare running 2 round dishes in Colu… https://t.co/19iT2sfPPi\n",
      "@elonmusk @itsALLrisky @arctechinc Following back anyone followed me instantly\n",
      "@elonmusk @itsALLrisky @arctechinc https://t.co/xYNgAWjcpx\n",
      "@elonmusk @arctechinc Hi, Elon! I'M STUCK IN THE DISHWASHER!! WHAT WAS BAD THINKING!? [Check pinned if marked sensi… https://t.co/3G353ZlKFq\n",
      "@elonmusk @arctechinc @elonmusk  Day 18/365 \n",
      "Would you be able to add payment methods other than credit cards and a… https://t.co/zT3DhLsay3\n",
      "@elonmusk @arctechinc Any updates on Tesla Solar Roof in Europe?\n",
      "@elonmusk @arctechinc Yay! Mobile Starlink for RVs can’t come soon enough for us full-time digital nomads!  Can har… https://t.co/bdYnOl6VkX\n"
     ]
    }
   ],
   "source": [
    "import csv\n",
    "import tweepy\n",
    "import ssl\n",
    "ssl._create_default_https_context = ssl._create_unverified_context\n",
    "# Oauth keys\n",
    "consumer_key = \"FzQhcfBvKlRwlzLPusKrrSY6P\"\n",
    "consumer_secret = \"ITDtL5vsBgyC3N6YrT7sjh8t2WNFNwFeNojLlqmQPH1iIlEaaa\"\n",
    "access_token = \"1431117962350448643-59wKX0XbMqwFaI9KDetGi0RlFQKU2G\"\n",
    "access_token_secret = \"XIm6pu4mgVX6ocrEVv7WIC9cBKLRnpMFJy9vjn3wRKjFG\"\n",
    "# Authentication with Twitter\n",
    "auth = tweepy.OAuthHandler(consumer_key, consumer_secret)\n",
    "auth.set_access_token(access_token, access_token_secret)\n",
    "api = tweepy.API(auth)\n",
    "# update these for the tweet you want to process replies to 'name' = the account username and you can find the tweet id within the tweet URL\n",
    "name = 'elonmusk'\n",
    "tweet_id = '1488926079431675905'\n",
    "replies=[]\n",
    "for tweet in tweepy.Cursor(api.search_tweets,q='to:'+name, result_type='recent').items(1000):\n",
    "    if hasattr(tweet, 'in_reply_to_status_id_str'):\n",
    "        if (tweet.in_reply_to_status_id_str==tweet_id):\n",
    "            replies.append(tweet)"
   ]
  },
  {
   "cell_type": "code",
   "execution_count": 18,
   "id": "72afa429",
   "metadata": {},
   "outputs": [
    {
     "name": "stdout",
     "output_type": "stream",
     "text": [
      "1488926079431675905\n"
     ]
    }
   ],
   "source": [
    "# import the module\n",
    "import tweepy\n",
    "  \n",
    "# assign the values accordingly\n",
    "consumer_key = \"FzQhcfBvKlRwlzLPusKrrSY6P\"\n",
    "consumer_secret = \"ITDtL5vsBgyC3N6YrT7sjh8t2WNFNwFeNojLlqmQPH1iIlEaaa\"\n",
    "access_token = \"1431117962350448643-59wKX0XbMqwFaI9KDetGi0RlFQKU2G\"\n",
    "access_token_secret = \"XIm6pu4mgVX6ocrEVv7WIC9cBKLRnpMFJy9vjn3wRKjFG\"\n",
    "  \n",
    "# authorization of consumer key and consumer secret\n",
    "auth = tweepy.OAuthHandler(consumer_key, consumer_secret)\n",
    "  \n",
    "# set access to user's access key and access secret \n",
    "auth.set_access_token(access_token, access_token_secret)\n",
    "  \n",
    "# calling the api \n",
    "api = tweepy.API(auth)\n",
    "  \n",
    "# fetching the statuses\n",
    "statuses = api.user_timeline(screen_name = \"elonmusk\",count=1)\n",
    "  \n",
    "for status in statuses:\n",
    "    print(status.id)"
   ]
  },
  {
   "cell_type": "code",
   "execution_count": null,
   "id": "cf7dacf8",
   "metadata": {},
   "outputs": [],
   "source": []
  }
 ],
 "metadata": {
  "kernelspec": {
   "display_name": "Python 3 (ipykernel)",
   "language": "python",
   "name": "python3"
  },
  "language_info": {
   "codemirror_mode": {
    "name": "ipython",
    "version": 3
   },
   "file_extension": ".py",
   "mimetype": "text/x-python",
   "name": "python",
   "nbconvert_exporter": "python",
   "pygments_lexer": "ipython3",
   "version": "3.10.1"
  }
 },
 "nbformat": 4,
 "nbformat_minor": 5
}

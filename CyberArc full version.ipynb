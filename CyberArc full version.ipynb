{
 "cells": [
  {
   "cell_type": "markdown",
   "id": "262e4625",
   "metadata": {},
   "source": [
    "<h3>Tweet extraction</h3>"
   ]
  },
  {
   "cell_type": "code",
   "execution_count": 178,
   "id": "eaeb57fc",
   "metadata": {},
   "outputs": [],
   "source": [
    "#API KEYS\n",
    "consumer_key = \"FzQhcfBvKlRwlzLPusKrrSY6P\"\n",
    "consumer_secret = \"ITDtL5vsBgyC3N6YrT7sjh8t2WNFNwFeNojLlqmQPH1iIlEaaa\"\n",
    "access_token = \"1431117962350448643-59wKX0XbMqwFaI9KDetGi0RlFQKU2G\"\n",
    "access_token_secret = \"XIm6pu4mgVX6ocrEVv7WIC9cBKLRnpMFJy9vjn3wRKjFG\""
   ]
  },
  {
   "cell_type": "code",
   "execution_count": 179,
   "id": "8fc03309",
   "metadata": {},
   "outputs": [],
   "source": [
    "#package imports\n",
    "import tweepy\n",
    "import ssl\n",
    "import pandas as pd\n",
    "import html5lib\n",
    "import requests\n",
    "from bs4 import BeautifulSoup\n",
    "import lxml\n",
    "import sklearn\n",
    "import numpy as np"
   ]
  },
  {
   "cell_type": "code",
   "execution_count": 180,
   "id": "7564c045",
   "metadata": {},
   "outputs": [],
   "source": [
    "#Authorisation\n",
    "auth = tweepy.OAuthHandler(consumer_key, consumer_secret)\n",
    "auth.set_access_token(access_token, access_token_secret)\n",
    "api = tweepy.API(auth)"
   ]
  },
  {
   "cell_type": "code",
   "execution_count": 181,
   "id": "0aa1af89",
   "metadata": {},
   "outputs": [
    {
     "name": "stdout",
     "output_type": "stream",
     "text": [
      "1489483507252355072\n"
     ]
    }
   ],
   "source": [
    "#Fetching recent tweet id\n",
    "name = \"samlutd\"\n",
    "statuses = api.user_timeline(screen_name = \"samlutd\",count=1)\n",
    "for status in statuses:\n",
    "    tweet_id = status.id    \n",
    "print(tweet_id)"
   ]
  },
  {
   "cell_type": "code",
   "execution_count": 221,
   "id": "a1d9a8ed",
   "metadata": {
    "scrolled": true
   },
   "outputs": [],
   "source": [
    "#Recent tweet comment extraction\n",
    "replies=[]\n",
    "users = []\n",
    "for tweet in tweepy.Cursor(api.search_tweets,q='to:'+name, result_type='recent').items(10):\n",
    "    if hasattr(tweet, 'in_reply_to_status_id_str'):\n",
    "        replies.append(tweet.text)        \n",
    "        users.append(api.get_status(tweet._json['id']).user.screen_name)\n"
   ]
  },
  {
   "cell_type": "code",
   "execution_count": 242,
   "id": "0b3c8989",
   "metadata": {},
   "outputs": [],
   "source": [
    "replies.append(\"SHUT UP MOTHERFUCKER\")\n",
    "users.append(\"Drake\")"
   ]
  },
  {
   "cell_type": "code",
   "execution_count": 243,
   "id": "788bcfee",
   "metadata": {},
   "outputs": [],
   "source": [
    "interaction = {\"comments\":replies,\"user\":users}"
   ]
  },
  {
   "cell_type": "code",
   "execution_count": 244,
   "id": "fabc0f10",
   "metadata": {},
   "outputs": [],
   "source": [
    "replies_df = pd.DataFrame(replies,columns = [\"comments\"])\n",
    "results = pd.DataFrame.from_dict(interaction)"
   ]
  },
  {
   "cell_type": "code",
   "execution_count": 245,
   "id": "379f5eee",
   "metadata": {},
   "outputs": [
    {
     "data": {
      "text/html": [
       "<div>\n",
       "<style scoped>\n",
       "    .dataframe tbody tr th:only-of-type {\n",
       "        vertical-align: middle;\n",
       "    }\n",
       "\n",
       "    .dataframe tbody tr th {\n",
       "        vertical-align: top;\n",
       "    }\n",
       "\n",
       "    .dataframe thead th {\n",
       "        text-align: right;\n",
       "    }\n",
       "</style>\n",
       "<table border=\"1\" class=\"dataframe\">\n",
       "  <thead>\n",
       "    <tr style=\"text-align: right;\">\n",
       "      <th></th>\n",
       "      <th>comments</th>\n",
       "      <th>user</th>\n",
       "    </tr>\n",
       "  </thead>\n",
       "  <tbody>\n",
       "    <tr>\n",
       "      <th>0</th>\n",
       "      <td>@samlutd Let's see</td>\n",
       "      <td>rehanshhirani</td>\n",
       "    </tr>\n",
       "    <tr>\n",
       "      <th>1</th>\n",
       "      <td>@samlutd @Cricthoughts03 I hope so</td>\n",
       "      <td>noplasticinsea</td>\n",
       "    </tr>\n",
       "    <tr>\n",
       "      <th>2</th>\n",
       "      <td>@samlutd @SaHiListir3dtbh Hear me out sam\\n\\nT...</td>\n",
       "      <td>Cricthoughts03</td>\n",
       "    </tr>\n",
       "    <tr>\n",
       "      <th>3</th>\n",
       "      <td>@samlutd @ftbltaban Why not rashy in place of ...</td>\n",
       "      <td>XVenom07</td>\n",
       "    </tr>\n",
       "    <tr>\n",
       "      <th>4</th>\n",
       "      <td>@samlutd @SaHiListir3dtbh That's what I wrote ...</td>\n",
       "      <td>Cricthoughts03</td>\n",
       "    </tr>\n",
       "    <tr>\n",
       "      <th>5</th>\n",
       "      <td>@samlutd For just fa Cup right</td>\n",
       "      <td>ftbltaban</td>\n",
       "    </tr>\n",
       "    <tr>\n",
       "      <th>6</th>\n",
       "      <td>@samlutd @Cricthoughts03 Like they are gonna d...</td>\n",
       "      <td>SaHiListir3dtbh</td>\n",
       "    </tr>\n",
       "    <tr>\n",
       "      <th>7</th>\n",
       "      <td>@samlutd Not jones and Maguire 😅🤦🏿‍♂️</td>\n",
       "      <td>Ibzi10_</td>\n",
       "    </tr>\n",
       "    <tr>\n",
       "      <th>8</th>\n",
       "      <td>@samlutd age:19\\nheight:5'9\\ncountry:australia...</td>\n",
       "      <td>raikrrraik</td>\n",
       "    </tr>\n",
       "    <tr>\n",
       "      <th>9</th>\n",
       "      <td>@samlutd https://t.co/2eyITxqN2o</td>\n",
       "      <td>MelbourneBlokee</td>\n",
       "    </tr>\n",
       "    <tr>\n",
       "      <th>10</th>\n",
       "      <td>SHUT UP MOTHERFUCKER</td>\n",
       "      <td>Drake</td>\n",
       "    </tr>\n",
       "  </tbody>\n",
       "</table>\n",
       "</div>"
      ],
      "text/plain": [
       "                                             comments             user\n",
       "0                                  @samlutd Let's see    rehanshhirani\n",
       "1                  @samlutd @Cricthoughts03 I hope so   noplasticinsea\n",
       "2   @samlutd @SaHiListir3dtbh Hear me out sam\\n\\nT...   Cricthoughts03\n",
       "3   @samlutd @ftbltaban Why not rashy in place of ...         XVenom07\n",
       "4   @samlutd @SaHiListir3dtbh That's what I wrote ...   Cricthoughts03\n",
       "5                      @samlutd For just fa Cup right        ftbltaban\n",
       "6   @samlutd @Cricthoughts03 Like they are gonna d...  SaHiListir3dtbh\n",
       "7               @samlutd Not jones and Maguire 😅🤦🏿‍♂️          Ibzi10_\n",
       "8   @samlutd age:19\\nheight:5'9\\ncountry:australia...       raikrrraik\n",
       "9                    @samlutd https://t.co/2eyITxqN2o  MelbourneBlokee\n",
       "10                               SHUT UP MOTHERFUCKER            Drake"
      ]
     },
     "execution_count": 245,
     "metadata": {},
     "output_type": "execute_result"
    }
   ],
   "source": [
    "results"
   ]
  },
  {
   "cell_type": "markdown",
   "id": "7500a3db",
   "metadata": {},
   "source": [
    "<h1>Testing Tweet</h1>"
   ]
  },
  {
   "cell_type": "code",
   "execution_count": 270,
   "id": "62e313e0",
   "metadata": {},
   "outputs": [],
   "source": [
    "train = pd.read_csv(\"train.csv\")\n",
    "test = replies_df"
   ]
  },
  {
   "cell_type": "code",
   "execution_count": 271,
   "id": "b88cf113",
   "metadata": {},
   "outputs": [
    {
     "data": {
      "text/plain": [
       "id       0\n",
       "label    0\n",
       "tweet    0\n",
       "dtype: int64"
      ]
     },
     "execution_count": 271,
     "metadata": {},
     "output_type": "execute_result"
    }
   ],
   "source": [
    "sum(train[\"label\"] == 0)\n",
    "sum(train[\"label\"] == 1)\n",
    "\n",
    "train.isnull().sum()"
   ]
  },
  {
   "cell_type": "code",
   "execution_count": 272,
   "id": "8829f234",
   "metadata": {},
   "outputs": [],
   "source": [
    "# remove special characters using the regular expression library\n",
    "import re\n",
    "\n",
    "#set up punctuations we want to be replaced\n",
    "REPLACE_NO_SPACE = re.compile(\"(\\.)|(\\;)|(\\:)|(\\!)|(\\')|(\\?)|(\\,)|(\\\")|(\\|)|(\\()|(\\))|(\\[)|(\\])|(\\%)|(\\$)|(\\>)|(\\<)|(\\{)|(\\})\")\n",
    "REPLACE_WITH_SPACE = re.compile(\"(<br\\s/><br\\s/?)|(-)|(/)|(:).\")"
   ]
  },
  {
   "cell_type": "code",
   "execution_count": 273,
   "id": "d240b7c8",
   "metadata": {},
   "outputs": [],
   "source": [
    "import preprocessor as p\n",
    "\n",
    "# custum function to clean the dataset (combining tweet_preprocessor and reguar expression)\n",
    "def clean_tweets(df):\n",
    "  tempArr = []\n",
    "  for line in df:\n",
    "    # send to tweet_processor\n",
    "    tmpL = p.clean(line)\n",
    "    # remove puctuation\n",
    "    tmpL = REPLACE_NO_SPACE.sub(\"\", tmpL.lower()) # convert all tweets to lower cases\n",
    "    tmpL = REPLACE_WITH_SPACE.sub(\" \", tmpL)\n",
    "    tempArr.append(tmpL)\n",
    "  return tempArr"
   ]
  },
  {
   "cell_type": "code",
   "execution_count": 274,
   "id": "c6c07769",
   "metadata": {},
   "outputs": [],
   "source": [
    "train_tweet = clean_tweets(train[\"tweet\"])\n",
    "train_tweet = pd.DataFrame(train_tweet)\n",
    "\n",
    "train[\"clean_tweet\"] = train_tweet\n"
   ]
  },
  {
   "cell_type": "code",
   "execution_count": 275,
   "id": "bc523b6d",
   "metadata": {},
   "outputs": [],
   "source": [
    "test_tweet = clean_tweets(test[\"comments\"])\n",
    "test_tweet = pd.DataFrame(test_tweet)\n",
    "# append cleaned tweets to the training data\n",
    "test[\"clean_tweet\"] = test_tweet\n"
   ]
  },
  {
   "cell_type": "code",
   "execution_count": 276,
   "id": "662d6352",
   "metadata": {},
   "outputs": [],
   "source": [
    "from sklearn.model_selection import train_test_split\n",
    "\n",
    "# extract the labels from the train data\n",
    "y = train.label.values\n",
    "\n",
    "# use 70% for the training and 30% for the test\n",
    "x_train, x_test, y_train, y_test = train_test_split(train.clean_tweet.values, y, \n",
    "                                                    stratify=y, \n",
    "                                                    random_state=1, \n",
    "                                                    test_size=0.3, shuffle=True)"
   ]
  },
  {
   "cell_type": "code",
   "execution_count": null,
   "id": "725a3c1d",
   "metadata": {},
   "outputs": [],
   "source": []
  },
  {
   "cell_type": "code",
   "execution_count": 296,
   "id": "b9b65007",
   "metadata": {},
   "outputs": [
    {
     "name": "stderr",
     "output_type": "stream",
     "text": [
      "C:\\Users\\HP\\AppData\\Local\\Programs\\Python\\Python310\\lib\\site-packages\\sklearn\\utils\\deprecation.py:87: FutureWarning: Function get_feature_names is deprecated; get_feature_names is deprecated in 1.0 and will be removed in 1.2. Please use get_feature_names_out instead.\n",
      "  warnings.warn(msg, category=FutureWarning)\n"
     ]
    },
    {
     "data": {
      "text/html": [
       "<div>\n",
       "<style scoped>\n",
       "    .dataframe tbody tr th:only-of-type {\n",
       "        vertical-align: middle;\n",
       "    }\n",
       "\n",
       "    .dataframe tbody tr th {\n",
       "        vertical-align: top;\n",
       "    }\n",
       "\n",
       "    .dataframe thead th {\n",
       "        text-align: right;\n",
       "    }\n",
       "</style>\n",
       "<table border=\"1\" class=\"dataframe\">\n",
       "  <thead>\n",
       "    <tr style=\"text-align: right;\">\n",
       "      <th></th>\n",
       "      <th>and</th>\n",
       "      <th>channel</th>\n",
       "      <th>data</th>\n",
       "      <th>fuck</th>\n",
       "      <th>fun</th>\n",
       "      <th>import</th>\n",
       "      <th>is</th>\n",
       "      <th>it</th>\n",
       "      <th>my</th>\n",
       "      <th>passion</th>\n",
       "      <th>please</th>\n",
       "      <th>science</th>\n",
       "      <th>subscribe</th>\n",
       "      <th>this</th>\n",
       "      <th>to</th>\n",
       "      <th>youtube</th>\n",
       "    </tr>\n",
       "  </thead>\n",
       "  <tbody>\n",
       "    <tr>\n",
       "      <th>0</th>\n",
       "      <td>0</td>\n",
       "      <td>1</td>\n",
       "      <td>1</td>\n",
       "      <td>0</td>\n",
       "      <td>0</td>\n",
       "      <td>1</td>\n",
       "      <td>1</td>\n",
       "      <td>0</td>\n",
       "      <td>0</td>\n",
       "      <td>0</td>\n",
       "      <td>0</td>\n",
       "      <td>0</td>\n",
       "      <td>0</td>\n",
       "      <td>1</td>\n",
       "      <td>0</td>\n",
       "      <td>1</td>\n",
       "    </tr>\n",
       "    <tr>\n",
       "      <th>1</th>\n",
       "      <td>1</td>\n",
       "      <td>0</td>\n",
       "      <td>1</td>\n",
       "      <td>0</td>\n",
       "      <td>1</td>\n",
       "      <td>0</td>\n",
       "      <td>2</td>\n",
       "      <td>1</td>\n",
       "      <td>1</td>\n",
       "      <td>1</td>\n",
       "      <td>0</td>\n",
       "      <td>1</td>\n",
       "      <td>0</td>\n",
       "      <td>0</td>\n",
       "      <td>0</td>\n",
       "      <td>0</td>\n",
       "    </tr>\n",
       "    <tr>\n",
       "      <th>2</th>\n",
       "      <td>0</td>\n",
       "      <td>1</td>\n",
       "      <td>0</td>\n",
       "      <td>0</td>\n",
       "      <td>0</td>\n",
       "      <td>0</td>\n",
       "      <td>0</td>\n",
       "      <td>0</td>\n",
       "      <td>1</td>\n",
       "      <td>0</td>\n",
       "      <td>1</td>\n",
       "      <td>0</td>\n",
       "      <td>1</td>\n",
       "      <td>0</td>\n",
       "      <td>1</td>\n",
       "      <td>0</td>\n",
       "    </tr>\n",
       "    <tr>\n",
       "      <th>3</th>\n",
       "      <td>0</td>\n",
       "      <td>0</td>\n",
       "      <td>0</td>\n",
       "      <td>1</td>\n",
       "      <td>0</td>\n",
       "      <td>0</td>\n",
       "      <td>0</td>\n",
       "      <td>0</td>\n",
       "      <td>0</td>\n",
       "      <td>0</td>\n",
       "      <td>0</td>\n",
       "      <td>0</td>\n",
       "      <td>0</td>\n",
       "      <td>0</td>\n",
       "      <td>0</td>\n",
       "      <td>0</td>\n",
       "    </tr>\n",
       "  </tbody>\n",
       "</table>\n",
       "</div>"
      ],
      "text/plain": [
       "   and  channel  data  fuck  fun  import  is  it  my  passion  please  \\\n",
       "0    0        1     1     0    0       1   1   0   0        0       0   \n",
       "1    1        0     1     0    1       0   2   1   1        1       0   \n",
       "2    0        1     0     0    0       0   0   0   1        0       1   \n",
       "3    0        0     0     1    0       0   0   0   0        0       0   \n",
       "\n",
       "   science  subscribe  this  to  youtube  \n",
       "0        0          0     1   0        1  \n",
       "1        1          0     0   0        0  \n",
       "2        0          1     0   1        0  \n",
       "3        0          0     0   0        0  "
      ]
     },
     "execution_count": 296,
     "metadata": {},
     "output_type": "execute_result"
    }
   ],
   "source": [
    "from sklearn.feature_extraction.text import CountVectorizer\n",
    "\n",
    "documents = [\"This is Import Data's Youtube channel\",\n",
    "             \"Data science is my passion and it is fun!\",\n",
    "             \"Please subscribe to my channel\" ]\n",
    "\n",
    "# initializing the countvectorizer\n",
    "vectorizer = CountVectorizer()\n",
    "\n",
    "# tokenize and make the document into a matrix\n",
    "document_term_matrix = vectorizer.fit_transform(documents)\n",
    "\n",
    "# check the result\n",
    "pd.DataFrame(document_term_matrix.toarray(), columns = vectorizer.get_feature_names())\n"
   ]
  },
  {
   "cell_type": "code",
   "execution_count": 297,
   "id": "95461a15",
   "metadata": {},
   "outputs": [],
   "source": [
    "from sklearn.feature_extraction.text import CountVectorizer\n",
    "\n",
    "# vectorize tweets for model building\n",
    "vectorizer = CountVectorizer(binary=True, stop_words='english')\n",
    "\n",
    "# learn a vocabulary dictionary of all tokens in the raw documents\n",
    "vectorizer.fit(list(x_train) + list(x_test))\n",
    "\n",
    "# transform documents to document-term matrix\n",
    "x_train_vec = vectorizer.transform(x_train)\n",
    "x_test_vec = vectorizer.transform(x_test)"
   ]
  },
  {
   "cell_type": "code",
   "execution_count": null,
   "id": "5433efb4",
   "metadata": {},
   "outputs": [],
   "source": []
  },
  {
   "cell_type": "code",
   "execution_count": 298,
   "id": "189ccfbb",
   "metadata": {},
   "outputs": [],
   "source": [
    "x_test_vec = vectorizer.transform(test.clean_tweet.values)"
   ]
  },
  {
   "cell_type": "code",
   "execution_count": 299,
   "id": "70e4e90e",
   "metadata": {},
   "outputs": [],
   "source": [
    "from sklearn import svm\n",
    "# classify using support vector classifier\n",
    "svm = svm.SVC(kernel = 'linear', probability=True)\n",
    "\n",
    "# fit the SVC model based on the given training data\n",
    "prob = svm.fit(x_train_vec, y_train).predict_proba(x_test_vec)\n",
    "\n",
    "# perform classification and prediction on samples in x_test\n",
    "y_pred_svm = svm.predict(x_test_vec)\n"
   ]
  },
  {
   "cell_type": "code",
   "execution_count": 300,
   "id": "56ff52a7",
   "metadata": {},
   "outputs": [
    {
     "data": {
      "text/plain": [
       "array([0, 0, 0, 1, 0, 0, 0, 0, 0, 0, 0], dtype=int64)"
      ]
     },
     "execution_count": 300,
     "metadata": {},
     "output_type": "execute_result"
    }
   ],
   "source": [
    "y_pred_svm"
   ]
  },
  {
   "cell_type": "code",
   "execution_count": 291,
   "id": "e303a584",
   "metadata": {},
   "outputs": [
    {
     "data": {
      "text/html": [
       "<div>\n",
       "<style scoped>\n",
       "    .dataframe tbody tr th:only-of-type {\n",
       "        vertical-align: middle;\n",
       "    }\n",
       "\n",
       "    .dataframe tbody tr th {\n",
       "        vertical-align: top;\n",
       "    }\n",
       "\n",
       "    .dataframe thead th {\n",
       "        text-align: right;\n",
       "    }\n",
       "</style>\n",
       "<table border=\"1\" class=\"dataframe\">\n",
       "  <thead>\n",
       "    <tr style=\"text-align: right;\">\n",
       "      <th></th>\n",
       "      <th>comments</th>\n",
       "      <th>clean_tweet</th>\n",
       "    </tr>\n",
       "  </thead>\n",
       "  <tbody>\n",
       "    <tr>\n",
       "      <th>0</th>\n",
       "      <td>@samlutd Let's see</td>\n",
       "      <td>lets see</td>\n",
       "    </tr>\n",
       "    <tr>\n",
       "      <th>1</th>\n",
       "      <td>@samlutd @Cricthoughts03 I hope so</td>\n",
       "      <td>i hope so</td>\n",
       "    </tr>\n",
       "    <tr>\n",
       "      <th>2</th>\n",
       "      <td>@samlutd @SaHiListir3dtbh Hear me out sam\\n\\nT...</td>\n",
       "      <td>hear me out samtest cricket is the only format...</td>\n",
       "    </tr>\n",
       "    <tr>\n",
       "      <th>3</th>\n",
       "      <td>@samlutd @ftbltaban Why not rashy in place of ...</td>\n",
       "      <td>why not rashy in place of elanga rashy needs s...</td>\n",
       "    </tr>\n",
       "    <tr>\n",
       "      <th>4</th>\n",
       "      <td>@samlutd @SaHiListir3dtbh That's what I wrote ...</td>\n",
       "      <td>thats what i wrote matetest cricket is the onl...</td>\n",
       "    </tr>\n",
       "    <tr>\n",
       "      <th>5</th>\n",
       "      <td>@samlutd For just fa Cup right</td>\n",
       "      <td>for just fa cup right</td>\n",
       "    </tr>\n",
       "    <tr>\n",
       "      <th>6</th>\n",
       "      <td>@samlutd @Cricthoughts03 Like they are gonna d...</td>\n",
       "      <td>like they are gonna do this after seeing my tweet</td>\n",
       "    </tr>\n",
       "    <tr>\n",
       "      <th>7</th>\n",
       "      <td>@samlutd Not jones and Maguire 😅🤦🏿‍♂️</td>\n",
       "      <td>not jones and maguire</td>\n",
       "    </tr>\n",
       "    <tr>\n",
       "      <th>8</th>\n",
       "      <td>@samlutd age:19\\nheight:5'9\\ncountry:australia...</td>\n",
       "      <td>age19height59countryaustraliafave playernnyrel...</td>\n",
       "    </tr>\n",
       "    <tr>\n",
       "      <th>9</th>\n",
       "      <td>@samlutd https://t.co/2eyITxqN2o</td>\n",
       "      <td></td>\n",
       "    </tr>\n",
       "    <tr>\n",
       "      <th>10</th>\n",
       "      <td>SHUT UP MOTHERFUCKER</td>\n",
       "      <td>shut up motherfucker</td>\n",
       "    </tr>\n",
       "  </tbody>\n",
       "</table>\n",
       "</div>"
      ],
      "text/plain": [
       "                                             comments  \\\n",
       "0                                  @samlutd Let's see   \n",
       "1                  @samlutd @Cricthoughts03 I hope so   \n",
       "2   @samlutd @SaHiListir3dtbh Hear me out sam\\n\\nT...   \n",
       "3   @samlutd @ftbltaban Why not rashy in place of ...   \n",
       "4   @samlutd @SaHiListir3dtbh That's what I wrote ...   \n",
       "5                      @samlutd For just fa Cup right   \n",
       "6   @samlutd @Cricthoughts03 Like they are gonna d...   \n",
       "7               @samlutd Not jones and Maguire 😅🤦🏿‍♂️   \n",
       "8   @samlutd age:19\\nheight:5'9\\ncountry:australia...   \n",
       "9                    @samlutd https://t.co/2eyITxqN2o   \n",
       "10                               SHUT UP MOTHERFUCKER   \n",
       "\n",
       "                                          clean_tweet  \n",
       "0                                            lets see  \n",
       "1                                           i hope so  \n",
       "2   hear me out samtest cricket is the only format...  \n",
       "3   why not rashy in place of elanga rashy needs s...  \n",
       "4   thats what i wrote matetest cricket is the onl...  \n",
       "5                               for just fa cup right  \n",
       "6   like they are gonna do this after seeing my tweet  \n",
       "7                               not jones and maguire  \n",
       "8   age19height59countryaustraliafave playernnyrel...  \n",
       "9                                                      \n",
       "10                               shut up motherfucker  "
      ]
     },
     "execution_count": 291,
     "metadata": {},
     "output_type": "execute_result"
    }
   ],
   "source": [
    "test"
   ]
  },
  {
   "cell_type": "code",
   "execution_count": 269,
   "id": "4284a4fe",
   "metadata": {},
   "outputs": [
    {
     "data": {
      "text/plain": [
       "array(['lets see', 'i hope so',\n",
       "       'hear me out samtest cricket is the only format that is relevant and should be played',\n",
       "       'why not rashy in place of elanga rashy needs some form imo',\n",
       "       'thats what i wrote matetest cricket is the only thing keeping international cricket relevant',\n",
       "       'for just fa cup right',\n",
       "       'like they are gonna do this after seeing my tweet',\n",
       "       'not jones and maguire',\n",
       "       'age19height59countryaustraliafave playernnyrelationship statusinglenameamuel',\n",
       "       '', 'shut up motherfucker'], dtype=object)"
      ]
     },
     "execution_count": 269,
     "metadata": {},
     "output_type": "execute_result"
    }
   ],
   "source": [
    "test.clean_tweet.values"
   ]
  }
 ],
 "metadata": {
  "kernelspec": {
   "display_name": "Python 3 (ipykernel)",
   "language": "python",
   "name": "python3"
  },
  "language_info": {
   "codemirror_mode": {
    "name": "ipython",
    "version": 3
   },
   "file_extension": ".py",
   "mimetype": "text/x-python",
   "name": "python",
   "nbconvert_exporter": "python",
   "pygments_lexer": "ipython3",
   "version": "3.10.1"
  }
 },
 "nbformat": 4,
 "nbformat_minor": 5
}

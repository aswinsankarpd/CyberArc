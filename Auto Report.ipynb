{
 "cells": [
  {
   "cell_type": "code",
   "execution_count": 7,
   "id": "b8f1e80a",
   "metadata": {},
   "outputs": [],
   "source": [
    "consumer_key = \"FzQhcfBvKlRwlzLPusKrrSY6P\"\n",
    "consumer_secret = \"ITDtL5vsBgyC3N6YrT7sjh8t2WNFNwFeNojLlqmQPH1iIlEaaa\"\n",
    "access_token = \"1431117962350448643-59wKX0XbMqwFaI9KDetGi0RlFQKU2G\"\n",
    "access_token_secret = \"XIm6pu4mgVX6ocrEVv7WIC9cBKLRnpMFJy9vjn3wRKjFG\""
   ]
  },
  {
   "cell_type": "code",
   "execution_count": 10,
   "id": "32b137e4",
   "metadata": {},
   "outputs": [
    {
     "name": "stdout",
     "output_type": "stream",
     "text": [
      "RT @AlexJonesax: Some dates for this month where you can come and have a 30 minute mock interview.\n",
      "\n",
      "20 mins on a question 10 mins remarks a…\n",
      "ICC U19 WC SF. 5.5: Ravi Kumar to Campbell Kellaway 4 runs, Australia U19 19/1 https://t.co/tpXk8oOLhY  #INDvAUS\n",
      "[New Course] From Chemistry to Living Materials: Matter &amp; Sound from Massachusetts Institute of Technology on World… https://t.co/b6gnduASjM\n",
      "Congrats to the whole team! https://t.co/v6MI4dWsuN\n",
      "Providing data-driven support for the fruit and veg industries is what Famosa is all about. Check out its Arduino P… https://t.co/NzNf36Jx4V\n",
      "Ravi Kumar took his first wicket in the 3rd ball in the Quarter-final and 1st ball in the Semi-final - left arm pac… https://t.co/PAGPbYZBYl\n",
      "@Ishansharma7390 I think this is true for devs working on bleeding edge tech in general like ML, IoT etc.\n",
      "\n",
      "But yeah… https://t.co/ECkCeqjLN9\n",
      "Abundant’s new owner looks to revive the apple-picking robot through equity crowdfunding https://t.co/sFYTy09133 by @bheater\n",
      "RT @CricksLab: .@mdsirajofficial is truly an inspiration for many ❤️\n",
      "\n",
      "#CricksLab #CricketTwitter #IPL2022 #RCB #Bangalore #IPL2022MegaAucti…\n",
      "ICC U19 WC SF. 1.3: Ravi Kumar to Corey Miller 4 runs, Australia U19 7/1 https://t.co/tpXk8p6Uw6  #INDvAUS\n",
      "Sometimes I feel like the crypto devs deliberately use long jargon-y words that the common person can't understand… https://t.co/N2CjU3xzxw\n",
      "ICC U19 WC SF. WICKET!  1.1: Teague Wyllie 1(3) lbw Ravi Kumar, Australia U19 3/1 https://t.co/tpXk8oOLhY  #INDvAUS\n",
      "@mritunjay394 so this is the nation wide college whatsapp content XD\n",
      "Twitter bugs never looked so good 😂 https://t.co/iAJIWjS1ca\n",
      "RT @Khulood_Almani: How #Automation is Powering Work #Transformation👉5⃣Examples\n",
      "\n",
      "➡️https://t.co/X2UFNFDjyb\n",
      "\n",
      "#FutureOfWork #innovation #Digi…\n",
      "@dwvicy @manthanguptaa 👋 would love to interact with you\n",
      "The quality of people around you affects the quality of your life. Choose wisely!\n"
     ]
    }
   ],
   "source": [
    "import tweepy\n",
    "\n",
    "auth = tweepy.OAuthHandler(consumer_key, consumer_secret)\n",
    "auth.set_access_token(access_token, access_token_secret)\n",
    "\n",
    "api = tweepy.API(auth)\n",
    "\n",
    "public_tweets = api.home_timeline()\n",
    "for tweet in public_tweets:\n",
    "    print(tweet.text)"
   ]
  },
  {
   "cell_type": "code",
   "execution_count": 12,
   "id": "bf097fd7",
   "metadata": {},
   "outputs": [
    {
     "data": {
      "text/plain": [
       "User(_api=<tweepy.api.API object at 0x000001E9D9AA8C40>, _json={'id': 1407973512522833926, 'id_str': '1407973512522833926', 'name': '8️⃣', 'screen_name': 'inmessionanted', 'location': '41.3809° N, 2.1228° E', 'description': 'Força Barça all the way', 'url': None, 'entities': {'description': {'urls': []}}, 'protected': False, 'followers_count': 486, 'friends_count': 829, 'listed_count': 0, 'created_at': 'Thu Jun 24 08:07:10 +0000 2021', 'favourites_count': 3944, 'utc_offset': None, 'time_zone': None, 'geo_enabled': False, 'verified': False, 'statuses_count': 1544, 'lang': None, 'status': {'created_at': 'Tue Feb 01 10:19:32 +0000 2022', 'id': 1488456979014160385, 'id_str': '1488456979014160385', 'text': 'one person followed me and one person unfollowed me // automatically checked by https://t.co/f4zMYPBalE', 'truncated': False, 'entities': {'hashtags': [], 'symbols': [], 'user_mentions': [], 'urls': [{'url': 'https://t.co/f4zMYPBalE', 'expanded_url': 'http://fllwrs.com', 'display_url': 'fllwrs.com', 'indices': [80, 103]}]}, 'source': '<a href=\"http://fllwrs.com\" rel=\"nofollow\">fllwrs</a>', 'in_reply_to_status_id': None, 'in_reply_to_status_id_str': None, 'in_reply_to_user_id': None, 'in_reply_to_user_id_str': None, 'in_reply_to_screen_name': None, 'geo': None, 'coordinates': None, 'place': None, 'contributors': None, 'is_quote_status': False, 'retweet_count': 0, 'favorite_count': 0, 'favorited': False, 'retweeted': False, 'possibly_sensitive': False, 'lang': 'en'}, 'contributors_enabled': False, 'is_translator': False, 'is_translation_enabled': False, 'profile_background_color': 'F5F8FA', 'profile_background_image_url': None, 'profile_background_image_url_https': None, 'profile_background_tile': False, 'profile_image_url': 'http://pbs.twimg.com/profile_images/1452583304050274305/i4XNE_HW_normal.jpg', 'profile_image_url_https': 'https://pbs.twimg.com/profile_images/1452583304050274305/i4XNE_HW_normal.jpg', 'profile_banner_url': 'https://pbs.twimg.com/profile_banners/1407973512522833926/1628910828', 'profile_link_color': '1DA1F2', 'profile_sidebar_border_color': 'C0DEED', 'profile_sidebar_fill_color': 'DDEEF6', 'profile_text_color': '333333', 'profile_use_background_image': True, 'has_extended_profile': True, 'default_profile': True, 'default_profile_image': False, 'following': False, 'follow_request_sent': False, 'notifications': False, 'muting': False, 'translator_type': 'none', 'withheld_in_countries': []}, id=1407973512522833926, id_str='1407973512522833926', name='8️⃣', screen_name='inmessionanted', location='41.3809° N, 2.1228° E', description='Força Barça all the way', url=None, entities={'description': {'urls': []}}, protected=False, followers_count=486, friends_count=829, listed_count=0, created_at=datetime.datetime(2021, 6, 24, 8, 7, 10, tzinfo=datetime.timezone.utc), favourites_count=3944, utc_offset=None, time_zone=None, geo_enabled=False, verified=False, statuses_count=1544, lang=None, status=Status(_api=<tweepy.api.API object at 0x000001E9D9AA8C40>, _json={'created_at': 'Tue Feb 01 10:19:32 +0000 2022', 'id': 1488456979014160385, 'id_str': '1488456979014160385', 'text': 'one person followed me and one person unfollowed me // automatically checked by https://t.co/f4zMYPBalE', 'truncated': False, 'entities': {'hashtags': [], 'symbols': [], 'user_mentions': [], 'urls': [{'url': 'https://t.co/f4zMYPBalE', 'expanded_url': 'http://fllwrs.com', 'display_url': 'fllwrs.com', 'indices': [80, 103]}]}, 'source': '<a href=\"http://fllwrs.com\" rel=\"nofollow\">fllwrs</a>', 'in_reply_to_status_id': None, 'in_reply_to_status_id_str': None, 'in_reply_to_user_id': None, 'in_reply_to_user_id_str': None, 'in_reply_to_screen_name': None, 'geo': None, 'coordinates': None, 'place': None, 'contributors': None, 'is_quote_status': False, 'retweet_count': 0, 'favorite_count': 0, 'favorited': False, 'retweeted': False, 'possibly_sensitive': False, 'lang': 'en'}, created_at=datetime.datetime(2022, 2, 1, 10, 19, 32, tzinfo=datetime.timezone.utc), id=1488456979014160385, id_str='1488456979014160385', text='one person followed me and one person unfollowed me // automatically checked by https://t.co/f4zMYPBalE', truncated=False, entities={'hashtags': [], 'symbols': [], 'user_mentions': [], 'urls': [{'url': 'https://t.co/f4zMYPBalE', 'expanded_url': 'http://fllwrs.com', 'display_url': 'fllwrs.com', 'indices': [80, 103]}]}, source='fllwrs', source_url='http://fllwrs.com', in_reply_to_status_id=None, in_reply_to_status_id_str=None, in_reply_to_user_id=None, in_reply_to_user_id_str=None, in_reply_to_screen_name=None, geo=None, coordinates=None, place=None, contributors=None, is_quote_status=False, retweet_count=0, favorite_count=0, favorited=False, retweeted=False, possibly_sensitive=False, lang='en'), contributors_enabled=False, is_translator=False, is_translation_enabled=False, profile_background_color='F5F8FA', profile_background_image_url=None, profile_background_image_url_https=None, profile_background_tile=False, profile_image_url='http://pbs.twimg.com/profile_images/1452583304050274305/i4XNE_HW_normal.jpg', profile_image_url_https='https://pbs.twimg.com/profile_images/1452583304050274305/i4XNE_HW_normal.jpg', profile_banner_url='https://pbs.twimg.com/profile_banners/1407973512522833926/1628910828', profile_link_color='1DA1F2', profile_sidebar_border_color='C0DEED', profile_sidebar_fill_color='DDEEF6', profile_text_color='333333', profile_use_background_image=True, has_extended_profile=True, default_profile=True, default_profile_image=False, following=False, follow_request_sent=False, notifications=False, muting=False, translator_type='none', withheld_in_countries=[])"
      ]
     },
     "execution_count": 12,
     "metadata": {},
     "output_type": "execute_result"
    }
   ],
   "source": [
    "import tweepy\n",
    "  \n",
    "# assign the values accordingly\n",
    "consumer_key = \"FzQhcfBvKlRwlzLPusKrrSY6P\"\n",
    "consumer_secret = \"ITDtL5vsBgyC3N6YrT7sjh8t2WNFNwFeNojLlqmQPH1iIlEaaa\"\n",
    "access_token = \"1431117962350448643-59wKX0XbMqwFaI9KDetGi0RlFQKU2G\"\n",
    "access_token_secret = \"XIm6pu4mgVX6ocrEVv7WIC9cBKLRnpMFJy9vjn3wRKjFG\"\n",
    "  \n",
    "# authorization of consumer key and consumer secret\n",
    "auth = tweepy.OAuthHandler(consumer_key, consumer_secret)\n",
    "  \n",
    "# set access to user's access key and access secret \n",
    "auth.set_access_token(access_token, access_token_secret)\n",
    "  \n",
    "# calling the api \n",
    "api = tweepy.API(auth)\n",
    "  \n",
    "# the account to be reported\n",
    "screen_name = \"inmessionanted\"\n",
    "  \n",
    "# reporting the account\n",
    "api.report_spam(screen_name = screen_name,perform_block = True)"
   ]
  },
  {
   "cell_type": "code",
   "execution_count": null,
   "id": "dfa8fa00",
   "metadata": {},
   "outputs": [],
   "source": []
  }
 ],
 "metadata": {
  "kernelspec": {
   "display_name": "Python 3 (ipykernel)",
   "language": "python",
   "name": "python3"
  },
  "language_info": {
   "codemirror_mode": {
    "name": "ipython",
    "version": 3
   },
   "file_extension": ".py",
   "mimetype": "text/x-python",
   "name": "python",
   "nbconvert_exporter": "python",
   "pygments_lexer": "ipython3",
   "version": "3.10.1"
  }
 },
 "nbformat": 4,
 "nbformat_minor": 5
}
